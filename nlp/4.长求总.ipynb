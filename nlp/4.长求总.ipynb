{
 "cells": [
  {
   "cell_type": "code",
   "execution_count": 1,
   "id": "ea6696f2",
   "metadata": {},
   "outputs": [],
   "source": [
    "#全局变量\n",
    "hub_token = open('/root/hub_token.txt').read().strip()\n",
    "repo_id = 'lansinuote/nlp.4.summarization'\n",
    "push_to_hub = True"
   ]
  },
  {
   "cell_type": "code",
   "execution_count": 2,
   "id": "25390674",
   "metadata": {
    "scrolled": false
   },
   "outputs": [
    {
     "name": "stdout",
     "output_type": "stream",
     "text": [
      "T5TokenizerFast(name_or_path='t5-small', vocab_size=32100, model_max_length=512, is_fast=True, padding_side='right', truncation_side='right', special_tokens={'eos_token': '</s>', 'unk_token': '<unk>', 'pad_token': '<pad>', 'additional_special_tokens': ['<extra_id_0>', '<extra_id_1>', '<extra_id_2>', '<extra_id_3>', '<extra_id_4>', '<extra_id_5>', '<extra_id_6>', '<extra_id_7>', '<extra_id_8>', '<extra_id_9>', '<extra_id_10>', '<extra_id_11>', '<extra_id_12>', '<extra_id_13>', '<extra_id_14>', '<extra_id_15>', '<extra_id_16>', '<extra_id_17>', '<extra_id_18>', '<extra_id_19>', '<extra_id_20>', '<extra_id_21>', '<extra_id_22>', '<extra_id_23>', '<extra_id_24>', '<extra_id_25>', '<extra_id_26>', '<extra_id_27>', '<extra_id_28>', '<extra_id_29>', '<extra_id_30>', '<extra_id_31>', '<extra_id_32>', '<extra_id_33>', '<extra_id_34>', '<extra_id_35>', '<extra_id_36>', '<extra_id_37>', '<extra_id_38>', '<extra_id_39>', '<extra_id_40>', '<extra_id_41>', '<extra_id_42>', '<extra_id_43>', '<extra_id_44>', '<extra_id_45>', '<extra_id_46>', '<extra_id_47>', '<extra_id_48>', '<extra_id_49>', '<extra_id_50>', '<extra_id_51>', '<extra_id_52>', '<extra_id_53>', '<extra_id_54>', '<extra_id_55>', '<extra_id_56>', '<extra_id_57>', '<extra_id_58>', '<extra_id_59>', '<extra_id_60>', '<extra_id_61>', '<extra_id_62>', '<extra_id_63>', '<extra_id_64>', '<extra_id_65>', '<extra_id_66>', '<extra_id_67>', '<extra_id_68>', '<extra_id_69>', '<extra_id_70>', '<extra_id_71>', '<extra_id_72>', '<extra_id_73>', '<extra_id_74>', '<extra_id_75>', '<extra_id_76>', '<extra_id_77>', '<extra_id_78>', '<extra_id_79>', '<extra_id_80>', '<extra_id_81>', '<extra_id_82>', '<extra_id_83>', '<extra_id_84>', '<extra_id_85>', '<extra_id_86>', '<extra_id_87>', '<extra_id_88>', '<extra_id_89>', '<extra_id_90>', '<extra_id_91>', '<extra_id_92>', '<extra_id_93>', '<extra_id_94>', '<extra_id_95>', '<extra_id_96>', '<extra_id_97>', '<extra_id_98>', '<extra_id_99>']})\n",
      "{'input_ids': [[8774, 6, 48, 80, 7142, 55, 1], [100, 19, 430, 7142, 5, 1]], 'attention_mask': [[1, 1, 1, 1, 1, 1, 1], [1, 1, 1, 1, 1, 1]]}\n",
      "{'input_ids': [[8774, 6, 48, 80, 7142, 55, 1], [100, 19, 430, 7142, 5, 1]], 'attention_mask': [[1, 1, 1, 1, 1, 1, 1], [1, 1, 1, 1, 1, 1]]}\n"
     ]
    },
    {
     "name": "stderr",
     "output_type": "stream",
     "text": [
      "/root/anaconda3/envs/pt39/lib/python3.9/site-packages/transformers/models/t5/tokenization_t5_fast.py:155: FutureWarning: This tokenizer was incorrectly instantiated with a model max length of 512 which will be corrected in Transformers v5.\n",
      "For now, this behavior is kept to avoid breaking backwards compatibility when padding/encoding with `truncation is True`.\n",
      "- Be aware that you SHOULD NOT rely on t5-small automatically truncating your input to 512 when padding/encoding.\n",
      "- If you want to encode/pad to sequences longer than 512 you can either instantiate this tokenizer with `model_max_length` or pass `max_length` when encoding/padding.\n",
      "- To avoid this warning, please instantiate this tokenizer with `model_max_length` set to your preferred value.\n",
      "  warnings.warn(\n",
      "/root/anaconda3/envs/pt39/lib/python3.9/site-packages/transformers/tokenization_utils_base.py:3581: UserWarning: `as_target_tokenizer` is deprecated and will be removed in v5 of Transformers. You can tokenize your labels by using the argument `text_target` of the regular `__call__` method (either in the same call as your input texts if you use the same keyword arguments, or in a separate call.\n",
      "  warnings.warn(\n"
     ]
    }
   ],
   "source": [
    "from transformers import AutoTokenizer\n",
    "\n",
    "#加载分词器\n",
    "tokenizer = AutoTokenizer.from_pretrained('t5-small')\n",
    "\n",
    "print(tokenizer)\n",
    "\n",
    "#编码试算\n",
    "print(\n",
    "    tokenizer.batch_encode_plus(\n",
    "        ['Hello, this one sentence!', 'This is another sentence.']))\n",
    "\n",
    "#label的编码方式,但是试验结果是和input的编码方式一样,没有区别\n",
    "with tokenizer.as_target_tokenizer():\n",
    "    print(\n",
    "        tokenizer.batch_encode_plus(\n",
    "            ['Hello, this one sentence!', 'This is another sentence.']))"
   ]
  },
  {
   "cell_type": "code",
   "execution_count": 3,
   "id": "aa11505b",
   "metadata": {},
   "outputs": [
    {
     "name": "stderr",
     "output_type": "stream",
     "text": [
      "Found cached dataset xsum (/root/.cache/huggingface/datasets/xsum/default/1.2.0/082863bf4754ee058a5b6f6525d0cb2b18eadb62c7b370b095d1364050a52b71)\n"
     ]
    },
    {
     "data": {
      "application/vnd.jupyter.widget-view+json": {
       "model_id": "d2d66d01acb1438f8fb03d600658d49d",
       "version_major": 2,
       "version_minor": 0
      },
      "text/plain": [
       "  0%|          | 0/3 [00:00<?, ?it/s]"
      ]
     },
     "metadata": {},
     "output_type": "display_data"
    },
    {
     "name": "stderr",
     "output_type": "stream",
     "text": [
      "Loading cached shuffled indices for dataset at /root/.cache/huggingface/datasets/xsum/default/1.2.0/082863bf4754ee058a5b6f6525d0cb2b18eadb62c7b370b095d1364050a52b71/cache-60c989397024aa38.arrow\n",
      "Loading cached shuffled indices for dataset at /root/.cache/huggingface/datasets/xsum/default/1.2.0/082863bf4754ee058a5b6f6525d0cb2b18eadb62c7b370b095d1364050a52b71/cache-c55e23852740fe4a.arrow\n",
      "Loading cached shuffled indices for dataset at /root/.cache/huggingface/datasets/xsum/default/1.2.0/082863bf4754ee058a5b6f6525d0cb2b18eadb62c7b370b095d1364050a52b71/cache-7363f4d927e806d4.arrow\n"
     ]
    },
    {
     "name": "stdout",
     "output_type": "stream",
     "text": [
      "DatasetDict({\n",
      "    train: Dataset({\n",
      "        features: ['document', 'summary', 'id'],\n",
      "        num_rows: 20000\n",
      "    })\n",
      "    validation: Dataset({\n",
      "        features: ['document', 'summary', 'id'],\n",
      "        num_rows: 100\n",
      "    })\n",
      "    test: Dataset({\n",
      "        features: ['document', 'summary', 'id'],\n",
      "        num_rows: 100\n",
      "    })\n",
      "}) {'document': \"Clay, who has agreed a two-year deal, made 39 appearances for Scottish Premiership club Motherwell last season after joining them in June 2016.\\nThe 25-year-old had spent the two previous seasons with Grimsby, playing 74 National League games.\\nClay is Leyton Orient's ninth signing since being relegated from League Two last season.\", 'summary': 'National League side Leyton Orient have signed Motherwell midfielder Craig Clay on a free transfer.', 'id': '40635923'}\n",
      " "
     ]
    },
    {
     "name": "stderr",
     "output_type": "stream",
     "text": [
      "Loading cached processed dataset at /root/.cache/huggingface/datasets/xsum/default/1.2.0/082863bf4754ee058a5b6f6525d0cb2b18eadb62c7b370b095d1364050a52b71/cache-8781f1973c983dd2.arrow\n"
     ]
    },
    {
     "name": "stdout",
     "output_type": "stream",
     "text": [
      " "
     ]
    },
    {
     "name": "stderr",
     "output_type": "stream",
     "text": [
      "Loading cached processed dataset at /root/.cache/huggingface/datasets/xsum/default/1.2.0/082863bf4754ee058a5b6f6525d0cb2b18eadb62c7b370b095d1364050a52b71/cache-507e6180b0454481.arrow\n"
     ]
    },
    {
     "name": "stdout",
     "output_type": "stream",
     "text": [
      " "
     ]
    },
    {
     "name": "stderr",
     "output_type": "stream",
     "text": [
      "Loading cached processed dataset at /root/.cache/huggingface/datasets/xsum/default/1.2.0/082863bf4754ee058a5b6f6525d0cb2b18eadb62c7b370b095d1364050a52b71/cache-b2ee4be2352b7984.arrow\n"
     ]
    },
    {
     "name": "stdout",
     "output_type": "stream",
     "text": [
      " "
     ]
    },
    {
     "name": "stderr",
     "output_type": "stream",
     "text": [
      "Loading cached processed dataset at /root/.cache/huggingface/datasets/xsum/default/1.2.0/082863bf4754ee058a5b6f6525d0cb2b18eadb62c7b370b095d1364050a52b71/cache-233ee3a483109cc4.arrow\n"
     ]
    },
    {
     "name": "stdout",
     "output_type": "stream",
     "text": [
      " "
     ]
    },
    {
     "name": "stderr",
     "output_type": "stream",
     "text": [
      "Loading cached processed dataset at /root/.cache/huggingface/datasets/xsum/default/1.2.0/082863bf4754ee058a5b6f6525d0cb2b18eadb62c7b370b095d1364050a52b71/cache-ec873b0ef8632676.arrow\n"
     ]
    },
    {
     "name": "stdout",
     "output_type": "stream",
     "text": [
      " "
     ]
    },
    {
     "name": "stderr",
     "output_type": "stream",
     "text": [
      "Loading cached processed dataset at /root/.cache/huggingface/datasets/xsum/default/1.2.0/082863bf4754ee058a5b6f6525d0cb2b18eadb62c7b370b095d1364050a52b71/cache-8e07d2af3f38ae4b.arrow\n"
     ]
    },
    {
     "name": "stdout",
     "output_type": "stream",
     "text": [
      " "
     ]
    },
    {
     "name": "stderr",
     "output_type": "stream",
     "text": [
      "Loading cached processed dataset at /root/.cache/huggingface/datasets/xsum/default/1.2.0/082863bf4754ee058a5b6f6525d0cb2b18eadb62c7b370b095d1364050a52b71/cache-63eb97c53466aa78.arrow\n"
     ]
    },
    {
     "name": "stdout",
     "output_type": "stream",
     "text": [
      " "
     ]
    },
    {
     "name": "stderr",
     "output_type": "stream",
     "text": [
      "Loading cached processed dataset at /root/.cache/huggingface/datasets/xsum/default/1.2.0/082863bf4754ee058a5b6f6525d0cb2b18eadb62c7b370b095d1364050a52b71/cache-52f7ddc851f2cc9f.arrow\n"
     ]
    },
    {
     "name": "stdout",
     "output_type": "stream",
     "text": [
      " "
     ]
    },
    {
     "name": "stderr",
     "output_type": "stream",
     "text": [
      "Loading cached processed dataset at /root/.cache/huggingface/datasets/xsum/default/1.2.0/082863bf4754ee058a5b6f6525d0cb2b18eadb62c7b370b095d1364050a52b71/cache-215badddaded71f7.arrow\n"
     ]
    },
    {
     "name": "stdout",
     "output_type": "stream",
     "text": [
      " "
     ]
    },
    {
     "name": "stderr",
     "output_type": "stream",
     "text": [
      "Loading cached processed dataset at /root/.cache/huggingface/datasets/xsum/default/1.2.0/082863bf4754ee058a5b6f6525d0cb2b18eadb62c7b370b095d1364050a52b71/cache-a235683e8e5002fb.arrow\n"
     ]
    },
    {
     "name": "stdout",
     "output_type": "stream",
     "text": [
      " "
     ]
    },
    {
     "name": "stderr",
     "output_type": "stream",
     "text": [
      "Loading cached processed dataset at /root/.cache/huggingface/datasets/xsum/default/1.2.0/082863bf4754ee058a5b6f6525d0cb2b18eadb62c7b370b095d1364050a52b71/cache-72bb4d25ff2d9233.arrow\n"
     ]
    },
    {
     "name": "stdout",
     "output_type": "stream",
     "text": [
      " "
     ]
    },
    {
     "name": "stderr",
     "output_type": "stream",
     "text": [
      "Loading cached processed dataset at /root/.cache/huggingface/datasets/xsum/default/1.2.0/082863bf4754ee058a5b6f6525d0cb2b18eadb62c7b370b095d1364050a52b71/cache-decc947e2298b8fe.arrow\n",
      "Pushing split train to the Hub.\n",
      "Resuming upload of the dataset shards.\n"
     ]
    },
    {
     "data": {
      "application/vnd.jupyter.widget-view+json": {
       "model_id": "a5b81b312e4c45e18f7361efbbefccac",
       "version_major": 2,
       "version_minor": 0
      },
      "text/plain": [
       "Pushing dataset shards to the dataset hub:   0%|          | 0/1 [00:00<?, ?it/s]"
      ]
     },
     "metadata": {},
     "output_type": "display_data"
    },
    {
     "name": "stderr",
     "output_type": "stream",
     "text": [
      "Pushing split validation to the Hub.\n",
      "Resuming upload of the dataset shards.\n"
     ]
    },
    {
     "data": {
      "application/vnd.jupyter.widget-view+json": {
       "model_id": "4fc8c766a95c48d8bd308325e9510311",
       "version_major": 2,
       "version_minor": 0
      },
      "text/plain": [
       "Pushing dataset shards to the dataset hub:   0%|          | 0/1 [00:00<?, ?it/s]"
      ]
     },
     "metadata": {},
     "output_type": "display_data"
    },
    {
     "name": "stderr",
     "output_type": "stream",
     "text": [
      "Pushing split test to the Hub.\n",
      "Resuming upload of the dataset shards.\n"
     ]
    },
    {
     "data": {
      "application/vnd.jupyter.widget-view+json": {
       "model_id": "e8d6cd3cb61a404abfbb10c26e900a55",
       "version_major": 2,
       "version_minor": 0
      },
      "text/plain": [
       "Pushing dataset shards to the dataset hub:   0%|          | 0/1 [00:00<?, ?it/s]"
      ]
     },
     "metadata": {},
     "output_type": "display_data"
    },
    {
     "name": "stderr",
     "output_type": "stream",
     "text": [
      "Using custom data configuration lansinuote--nlp.4.summarization-e0d3b57ef58076bd\n"
     ]
    },
    {
     "name": "stdout",
     "output_type": "stream",
     "text": [
      "Downloading and preparing dataset None/None to /root/.cache/huggingface/datasets/lansinuote___parquet/lansinuote--nlp.4.summarization-e0d3b57ef58076bd/0.0.0/2a3b91fbd88a2c90d1dbbb32b460cf621d31bd5b05b934492fdef7d8d6f236ec...\n"
     ]
    },
    {
     "data": {
      "application/vnd.jupyter.widget-view+json": {
       "model_id": "edc53f7007f24f7383d3d7ba27101700",
       "version_major": 2,
       "version_minor": 0
      },
      "text/plain": [
       "Downloading data files:   0%|          | 0/3 [00:00<?, ?it/s]"
      ]
     },
     "metadata": {},
     "output_type": "display_data"
    },
    {
     "data": {
      "application/vnd.jupyter.widget-view+json": {
       "model_id": "f2c4387f540e4cc387a13db9a716b37b",
       "version_major": 2,
       "version_minor": 0
      },
      "text/plain": [
       "Downloading data:   0%|          | 0.00/21.0M [00:00<?, ?B/s]"
      ]
     },
     "metadata": {},
     "output_type": "display_data"
    },
    {
     "data": {
      "application/vnd.jupyter.widget-view+json": {
       "model_id": "1dbda32e95c344cbbd36be8fe96856b7",
       "version_major": 2,
       "version_minor": 0
      },
      "text/plain": [
       "Downloading data:   0%|          | 0.00/121k [00:00<?, ?B/s]"
      ]
     },
     "metadata": {},
     "output_type": "display_data"
    },
    {
     "data": {
      "application/vnd.jupyter.widget-view+json": {
       "model_id": "09807541f8324222a49ae29e5a7e0245",
       "version_major": 2,
       "version_minor": 0
      },
      "text/plain": [
       "Downloading data:   0%|          | 0.00/112k [00:00<?, ?B/s]"
      ]
     },
     "metadata": {},
     "output_type": "display_data"
    },
    {
     "data": {
      "application/vnd.jupyter.widget-view+json": {
       "model_id": "b2c9b510b136417db2c7e48ef7309794",
       "version_major": 2,
       "version_minor": 0
      },
      "text/plain": [
       "Extracting data files:   0%|          | 0/3 [00:00<?, ?it/s]"
      ]
     },
     "metadata": {},
     "output_type": "display_data"
    },
    {
     "data": {
      "application/vnd.jupyter.widget-view+json": {
       "model_id": "",
       "version_major": 2,
       "version_minor": 0
      },
      "text/plain": [
       "Generating train split:   0%|          | 0/20000 [00:00<?, ? examples/s]"
      ]
     },
     "metadata": {},
     "output_type": "display_data"
    },
    {
     "data": {
      "application/vnd.jupyter.widget-view+json": {
       "model_id": "",
       "version_major": 2,
       "version_minor": 0
      },
      "text/plain": [
       "Generating validation split:   0%|          | 0/100 [00:00<?, ? examples/s]"
      ]
     },
     "metadata": {},
     "output_type": "display_data"
    },
    {
     "data": {
      "application/vnd.jupyter.widget-view+json": {
       "model_id": "",
       "version_major": 2,
       "version_minor": 0
      },
      "text/plain": [
       "Generating test split:   0%|          | 0/100 [00:00<?, ? examples/s]"
      ]
     },
     "metadata": {},
     "output_type": "display_data"
    },
    {
     "name": "stdout",
     "output_type": "stream",
     "text": [
      "Dataset parquet downloaded and prepared to /root/.cache/huggingface/datasets/lansinuote___parquet/lansinuote--nlp.4.summarization-e0d3b57ef58076bd/0.0.0/2a3b91fbd88a2c90d1dbbb32b460cf621d31bd5b05b934492fdef7d8d6f236ec. Subsequent calls will reuse this data.\n"
     ]
    },
    {
     "data": {
      "application/vnd.jupyter.widget-view+json": {
       "model_id": "126a4b3198284213b67ebe22d8f84e3a",
       "version_major": 2,
       "version_minor": 0
      },
      "text/plain": [
       "  0%|          | 0/3 [00:00<?, ?it/s]"
      ]
     },
     "metadata": {},
     "output_type": "display_data"
    },
    {
     "name": "stdout",
     "output_type": "stream",
     "text": [
      "DatasetDict({\n",
      "    train: Dataset({\n",
      "        features: ['input_ids', 'attention_mask', 'labels'],\n",
      "        num_rows: 20000\n",
      "    })\n",
      "    validation: Dataset({\n",
      "        features: ['input_ids', 'attention_mask', 'labels'],\n",
      "        num_rows: 100\n",
      "    })\n",
      "    test: Dataset({\n",
      "        features: ['input_ids', 'attention_mask', 'labels'],\n",
      "        num_rows: 100\n",
      "    })\n",
      "}) {'input_ids': [21603, 10, 20988, 6, 113, 65, 4686, 3, 9, 192, 18, 1201, 1154, 6, 263, 6352, 3179, 7, 21, 12580, 6552, 2009, 1886, 8007, 2091, 336, 774, 227, 6109, 135, 16, 1515, 4619, 37, 944, 18, 1201, 18, 1490, 141, 1869, 8, 192, 1767, 9385, 28, 23427, 7, 969, 6, 1556, 3, 4581, 868, 3815, 1031, 5, 20988, 19, 312, 21220, 3, 16495, 31, 7, 24651, 8097, 437, 271, 3, 60, 8791, 26, 45, 3815, 2759, 336, 774, 5, 1], 'attention_mask': [1, 1, 1, 1, 1, 1, 1, 1, 1, 1, 1, 1, 1, 1, 1, 1, 1, 1, 1, 1, 1, 1, 1, 1, 1, 1, 1, 1, 1, 1, 1, 1, 1, 1, 1, 1, 1, 1, 1, 1, 1, 1, 1, 1, 1, 1, 1, 1, 1, 1, 1, 1, 1, 1, 1, 1, 1, 1, 1, 1, 1, 1, 1, 1, 1, 1, 1, 1, 1, 1, 1, 1, 1, 1, 1, 1, 1, 1, 1, 1], 'labels': [868, 3815, 596, 312, 21220, 3, 16495, 43, 3814, 8007, 2091, 2076, 1846, 49, 12870, 20988, 30, 3, 9, 339, 2025, 5, 1]}\n"
     ]
    }
   ],
   "source": [
    "from datasets import load_dataset\n",
    "\n",
    "\n",
    "def get_dataset():\n",
    "    #加载数据集\n",
    "    dataset = load_dataset('xsum')\n",
    "\n",
    "    #采样,数据量太大了跑不动\n",
    "    dataset['train'] = dataset['train'].shuffle(1).select(range(20000))\n",
    "    dataset['validation'] = dataset['validation'].shuffle(1).select(range(100))\n",
    "    dataset['test'] = dataset['test'].shuffle(1).select(range(100))\n",
    "\n",
    "    print(dataset, dataset['train'][0])\n",
    "\n",
    "    #数据预处理函数,分词\n",
    "    def f(examples):\n",
    "        #编码input\n",
    "        data = tokenizer.batch_encode_plus(\n",
    "            #在输入的前面加summarize前缀,这个是h5模型识别任务类型的标识\n",
    "            ['summarize: ' + i for i in examples['document']],\n",
    "            max_length=1024,\n",
    "            truncation=True,\n",
    "        )\n",
    "\n",
    "        #编码label\n",
    "        with tokenizer.as_target_tokenizer():\n",
    "            data['labels'] = tokenizer.batch_encode_plus(\n",
    "                examples['summary'],\n",
    "                max_length=128,\n",
    "                truncation=True,\n",
    "            )['input_ids']\n",
    "\n",
    "        return data\n",
    "\n",
    "    dataset = dataset.map(function=f,\n",
    "                          batched=True,\n",
    "                          batch_size=1000,\n",
    "                          num_proc=4,\n",
    "                          remove_columns=['document', 'summary', 'id'])\n",
    "\n",
    "    return dataset\n",
    "\n",
    "\n",
    "if push_to_hub:\n",
    "    dataset = get_dataset()\n",
    "    dataset.push_to_hub(repo_id=repo_id, token=hub_token)\n",
    "\n",
    "#直接使用我处理好的数据集\n",
    "dataset = load_dataset(path=repo_id)\n",
    "\n",
    "print(dataset, dataset['train'][0])"
   ]
  },
  {
   "cell_type": "code",
   "execution_count": 4,
   "id": "e5afcae3",
   "metadata": {},
   "outputs": [
    {
     "name": "stderr",
     "output_type": "stream",
     "text": [
      "You're using a T5TokenizerFast tokenizer. Please note that with a fast tokenizer, using the `__call__` method is faster than using a method to encode the text followed by a call to the `pad` method to get a padded encoding.\n"
     ]
    },
    {
     "data": {
      "text/plain": [
       "{'input_ids': tensor([[21603,    10,    37,  3719,    13],\n",
       "        [21603,    10,  7086,  8408,   563]]), 'attention_mask': tensor([[1, 1, 1, 1, 1],\n",
       "        [1, 1, 1, 1, 1]]), 'labels': tensor([[10455,   120,    80,  -100],\n",
       "        [  301,    53,  4074,  1669]]), 'decoder_input_ids': tensor([[    0, 10455,   120,    80],\n",
       "        [    0,   301,    53,  4074]])}"
      ]
     },
     "execution_count": 4,
     "metadata": {},
     "output_type": "execute_result"
    }
   ],
   "source": [
    "#这个函数和下面这个工具类等价,但我也是模仿实现的,不确定有没有出入\n",
    "#from transformers import DataCollatorForSeq2Seq\n",
    "#DataCollatorForSeq2Seq(tokenizer, model=model)\n",
    "\n",
    "import torch\n",
    "\n",
    "\n",
    "#数据批处理函数\n",
    "def collate_fn(data):\n",
    "    #求最长的label\n",
    "    max_length = max([len(i['labels']) for i in data])\n",
    "\n",
    "    #把所有的label都补pad到最长\n",
    "    for i in data:\n",
    "        pads = [-100] * (max_length - len(i['labels']))\n",
    "        i['labels'] = i['labels'] + pads\n",
    "\n",
    "    #把多个数据整合成一个tensor\n",
    "    data = tokenizer.pad(\n",
    "        encoded_inputs=data,\n",
    "        padding=True,\n",
    "        max_length=None,\n",
    "        pad_to_multiple_of=None,\n",
    "        return_tensors='pt',\n",
    "    )\n",
    "\n",
    "    #定义decoder_input_ids\n",
    "    data['decoder_input_ids'] = torch.zeros_like(data['labels'],\n",
    "                                                 dtype=torch.long)\n",
    "    data['decoder_input_ids'][:, 1:] = data['labels'][:, :-1]\n",
    "    data['decoder_input_ids'][data['decoder_input_ids'] == -100] = 0\n",
    "\n",
    "    return data\n",
    "\n",
    "\n",
    "data = [{\n",
    "    'input_ids': [21603, 10, 37, 3719, 13],\n",
    "    'attention_mask': [1, 1, 1, 1, 1],\n",
    "    'labels': [10455, 120, 80]\n",
    "}, {\n",
    "    'input_ids': [21603, 10, 7086, 8408, 563],\n",
    "    'attention_mask': [1, 1, 1, 1, 1],\n",
    "    'labels': [301, 53, 4074, 1669]\n",
    "}]\n",
    "\n",
    "collate_fn(data)"
   ]
  },
  {
   "cell_type": "code",
   "execution_count": 5,
   "id": "bdacd9d0",
   "metadata": {
    "scrolled": false
   },
   "outputs": [
    {
     "name": "stdout",
     "output_type": "stream",
     "text": [
      "input_ids torch.Size([8, 1024])\n",
      "attention_mask torch.Size([8, 1024])\n",
      "labels torch.Size([8, 49])\n",
      "decoder_input_ids torch.Size([8, 49])\n"
     ]
    },
    {
     "data": {
      "text/plain": [
       "2500"
      ]
     },
     "execution_count": 5,
     "metadata": {},
     "output_type": "execute_result"
    }
   ],
   "source": [
    "#数据加载器\n",
    "loader = torch.utils.data.DataLoader(\n",
    "    dataset=dataset['train'],\n",
    "    batch_size=8,\n",
    "    collate_fn=collate_fn,\n",
    "    shuffle=True,\n",
    "    drop_last=True,\n",
    ")\n",
    "\n",
    "for i, data in enumerate(loader):\n",
    "    break\n",
    "\n",
    "for k, v in data.items():\n",
    "    print(k, v.shape)\n",
    "\n",
    "len(loader)"
   ]
  },
  {
   "cell_type": "code",
   "execution_count": 6,
   "id": "098c5e4a",
   "metadata": {
    "scrolled": false
   },
   "outputs": [
    {
     "name": "stdout",
     "output_type": "stream",
     "text": [
      "7695.616\n"
     ]
    },
    {
     "data": {
      "text/plain": [
       "(tensor(3.9203, grad_fn=<NllLossBackward0>), torch.Size([8, 49, 32128]))"
      ]
     },
     "execution_count": 6,
     "metadata": {},
     "output_type": "execute_result"
    }
   ],
   "source": [
    "from transformers import AutoModelForSeq2SeqLM, T5Model, PreTrainedModel, PretrainedConfig\n",
    "\n",
    "#加载模型\n",
    "#model = AutoModelForSeq2SeqLM.from_pretrained('t5-small')\n",
    "\n",
    "\n",
    "#定义下游任务模型\n",
    "class Model(PreTrainedModel):\n",
    "    config_class = PretrainedConfig\n",
    "\n",
    "    def __init__(self,config):\n",
    "        super().__init__(config)\n",
    "        self.pretrained = T5Model.from_pretrained('t5-small')\n",
    "\n",
    "        #本来应该写tokenizer.vocab_size=32100就可以了。\n",
    "        #但是预训练模型里的参数是32128，所以为了方便就直接使用这个尺寸了\n",
    "        self.fc = torch.nn.Linear(512, 32128, bias=False)\n",
    "\n",
    "        #加载预训练模型的参数\n",
    "        parameters = AutoModelForSeq2SeqLM.from_pretrained('t5-small')\n",
    "        self.fc.load_state_dict(parameters.lm_head.state_dict())\n",
    "\n",
    "        self.criterion = torch.nn.CrossEntropyLoss(ignore_index=-100)\n",
    "\n",
    "    def forward(self, input_ids, attention_mask, labels, decoder_input_ids):\n",
    "\n",
    "        logits = self.pretrained.encoder(input_ids=input_ids,\n",
    "                                         attention_mask=attention_mask)\n",
    "\n",
    "        logits = logits.last_hidden_state\n",
    "\n",
    "        logits = self.pretrained.decoder(\n",
    "            input_ids=decoder_input_ids,\n",
    "            encoder_hidden_states=logits,\n",
    "            encoder_attention_mask=attention_mask,\n",
    "        )\n",
    "\n",
    "        logits = logits.last_hidden_state\n",
    "\n",
    "        logits = logits * (512**-0.5)\n",
    "\n",
    "        logits = self.fc(logits)\n",
    "\n",
    "        loss = self.criterion(logits.reshape(-1, 32128), labels.reshape(-1))\n",
    "\n",
    "        return {'loss': loss, 'logits': logits}\n",
    "\n",
    "\n",
    "model = Model(PretrainedConfig())\n",
    "\n",
    "#统计参数量\n",
    "print(sum(i.numel() for i in model.parameters()) / 10000)\n",
    "\n",
    "#模型试算\n",
    "out = model(**data)\n",
    "\n",
    "out['loss'], out['logits'].shape"
   ]
  },
  {
   "cell_type": "code",
   "execution_count": 7,
   "id": "20d9a12b",
   "metadata": {
    "scrolled": false
   },
   "outputs": [
    {
     "name": "stdout",
     "output_type": "stream",
     "text": [
      "pred= ('the citydefenderyle striker injured  is be  least two weeks  injury his mal  fitness  the  the the the the the the the the the the the the the the the',)\n",
      "label= <pad> Plymouth Argyle striker Jimmy Spencer will miss at least three months after breaking and dislocating his ankle.</s><pad><pad><pad><pad><pad><pad><pad><pad><pad><pad><pad><pad><pad><pad><pad>\n",
      "\n",
      "pred= ('theley ares  che is in the top three of league   the season  says Pul Brom manager  Pulis  the  the the the the the the the the the the',)\n",
      "label= <pad> Burnley's Sean Dyche is in the top three Premier League managers of the year, says West Brom boss Tony Pulis.</s><pad><pad><pad><pad><pad><pad><pad><pad><pad><pad>\n",
      "\n",
      "pred= ('the in be be loans much as 3.$3 million £100m) in the assistance  the government government  the</s> the the the the the the the the the the the the the the',)\n",
      "label= <pad> Farmers may soon receive as much as A$100m (£53m) in drought assistance from the Australian government.</s><pad><pad><pad><pad><pad><pad><pad><pad><pad><pad><pad><pad><pad><pad>\n",
      "\n",
      "pred= (\"Hit company iss nuclear industry is to been withdrawn by the's fuachi nuclear contractsa deal.£30 deal deal  the   nuclear nucleara nuclear reactor of nuclear plants  the\",)\n",
      "label= <pad> The UK's nuclear expansion plans have been boosted after Japan's Hitachi signed a <unk>£700m deal giving it rights to build a new generation of power plants.\n",
      "\n"
     ]
    }
   ],
   "source": [
    "#测试\n",
    "def test():\n",
    "    model.eval()\n",
    "\n",
    "    #数据加载器\n",
    "    loader_test = torch.utils.data.DataLoader(\n",
    "        dataset=dataset['test'],\n",
    "        batch_size=4,\n",
    "        collate_fn=collate_fn,\n",
    "        shuffle=True,\n",
    "        drop_last=True,\n",
    "    )\n",
    "\n",
    "    for i, data in enumerate(loader_test):\n",
    "        break\n",
    "        \n",
    "    #计算\n",
    "    with torch.no_grad():\n",
    "        out = model(**data)\n",
    "\n",
    "    for i in range(4):\n",
    "        input_ids = tokenizer.decode(data['input_ids'][i])\n",
    "        pred = tokenizer.decode(out['logits'].argmax(dim=2)[i]),\n",
    "        label = tokenizer.decode(data['decoder_input_ids'][i])\n",
    "\n",
    "        #print('input_ids=', input_ids)\n",
    "        print('pred=', pred)\n",
    "        print('label=', label)\n",
    "        print()\n",
    "        \n",
    "test()"
   ]
  },
  {
   "cell_type": "code",
   "execution_count": 8,
   "id": "ae2ab50c",
   "metadata": {
    "scrolled": false
   },
   "outputs": [
    {
     "name": "stderr",
     "output_type": "stream",
     "text": [
      "/root/anaconda3/envs/pt39/lib/python3.9/site-packages/transformers/optimization.py:306: FutureWarning: This implementation of AdamW is deprecated and will be removed in a future version. Use the PyTorch implementation torch.optim.AdamW instead, or set `no_deprecation_warning=True` to disable this warning\n",
      "  warnings.warn(\n"
     ]
    },
    {
     "name": "stdout",
     "output_type": "stream",
     "text": [
      "0 3.7945587635040283 1.9992e-05\n",
      "pred= ('s are being  and  elephantt  of reasons.  are some  elephant them </s></s>              elephant elephant  elephant    ',)\n",
      "label= <pad> Elephants are absolutely amazing animals for a number of reasons - here are just 11 of them.</s><pad><pad><pad><pad><pad><pad><pad><pad><pad><pad><pad><pad><pad><pad><pad><pad><pad><pad><pad><pad><pad>\n",
      "\n",
      "50 3.673530101776123 1.9592e-05\n",
      "pred= (\"Kiloughgiel led Closter 3s LoyanStartland 3. Killlysaannaa -12  -5  the's lastrim S Hur semiling Final  ygalle </s>\",)\n",
      "label= <pad> Loughgiel defeated Ulster champions and All-Ireland finalists Cushenhdall 1-15 to 1-12 in Sunday's Antrim Senior Club Hurling final in Ballycastle.\n",
      "\n",
      "100 3.3030643463134766 1.9192000000000002e-05\n",
      "pred= ('the of Man is have beenly voted thea new to the journalists in the Housex House. whichnwald.</s></s> the the the the the the the the the the the the the the the The',)\n",
      "label= <pad> Isle of Man politicians have unanimously backed a move to allow cameras inside the Manx parliament, Tynwald.</s><pad><pad><pad><pad><pad><pad><pad><pad><pad><pad><pad><pad><pad><pad><pad><pad>\n",
      "\n",
      "150 3.255415678024292 1.8792000000000002e-05\n",
      "pred= ('Welsh say not thes more care to most age they need like to own.. a Welsh said been.</s></s> Welsh Welsh Wales Welsh Welsh Welsh Welsh Welsh Welsh Welsh Welsh Welsh Welsh Welsh Welsh Welsh Welsh Welsh Welsh Welsh Welsh Welsh Welsh',)\n",
      "label= <pad> Authorities should give teenagers leaving care the same support they would give their own children, a report has said.</s><pad><pad><pad><pad><pad><pad><pad><pad><pad><pad><pad><pad><pad><pad><pad><pad><pad><pad><pad><pad><pad><pad><pad>\n",
      "\n",
      "200 3.1356360912323 1.8392e-05\n",
      "pred= ('Thet is  to for but need not to be the taxese,\" \"</s>   British The  \"   The British  Mr<extra_id_0> British Mr   The The British<extra_id_0> UK',)\n",
      "label= <pad> \"It is tough times, we will have to cut our cloth accordingly.\"</s><pad><pad><pad><pad><pad><pad><pad><pad><pad><pad><pad><pad><pad><pad><pad><pad><pad><pad><pad><pad><pad><pad>\n",
      "\n",
      "250 2.7672269344329834 1.7992e-05\n",
      "pred= ('The report in   its governor from being danger danger of extremism,  teach beyond school education. the officialsted report says said.</s>',)\n",
      "label= <pad> A school is not protecting its pupils from the possible risks of extremism and should go into special measures, an Ofsted report has said.\n",
      "\n",
      "300 3.1372241973876953 1.7592000000000004e-05\n",
      "pred= ('Archived of new in  in Europe, year. the Middle of thea new world. the. their families.</s></s><pad></s></s></s> European   The The The',)\n",
      "label= <pad> Thousands of people are arriving in Europe every day in the hope of a better life for them and their families.</s><pad><pad><pad><pad><pad><pad><pad><pad><pad><pad>\n",
      "\n",
      "350 2.774793863296509 1.7192e-05\n",
      "pred= ('US US has planning ships aircraft carrier and the its militarys in Yemen Arabia of Yemen, but s that the Iranian convo convoy would Yemen Arabia could being weapons and to the. rebeluthis rebels.</s></s>',)\n",
      "label= <pad> The US is sending an aircraft carrier to boost its patrols in the waters off Yemen, amid suspicions that an Iranian naval convoy in the area is carrying arms intended for Yemeni Houthi rebels.</s>\n",
      "\n",
      "400 2.963775157928467 1.6792e-05\n",
      "pred= ('A court from been tode a acts Syria, sending a picture of a suicide vest in sending to about a route to Syria country. facebook.</s></s> Kingston',)\n",
      "label= <pad> A woman has admitted inciting terrorism in Syria by posting a picture of a suicide vest and messaging details of a route into the country on Facebook.</s><pad>\n",
      "\n",
      "450 2.3330821990966797 1.6392e-05\n",
      "pred= ('The say  have shot  victim of a man inallegedlylaatched in a crocdile in he walkedatam across thea river at the.s capital Territory. thea night celebration.</s>',)\n",
      "label= <pad> Police say they have found the body of a man snatched by a crocodile as he swam in a river in Australia's Northern Territory during a birthday party.\n",
      "\n",
      "500 2.855419874191284 1.5992000000000002e-05\n",
      "pred= ('Thes of people have the will be able to withdraw thea Life I Is I toISAsa) to buy a home. buya stock. but Governmentllor said said.</s>',)\n",
      "label= <pad> Millions of adults under 40 will be able to use a new Individual Savings Account (Isa) to buy a home or a pension, the chancellor has announced.\n",
      "\n",
      "550 2.3353500366210938 1.5592e-05\n",
      "pred= ('A man was hit injured in he was hitrushed hit by a sofa in had from a hotel-tech hotel in Switzerland.</s> the the The',)\n",
      "label= <pad> A man was seriously injured when he was reportedly struck by a sofa which fell from a high-rise building in London.</s><pad><pad>\n",
      "\n",
      "600 2.8355207443237305 1.5192000000000003e-05\n",
      "pred= ('The of thea town towns town have voted fora-ingly for  of the move of a bypass bypass</s></s> Scottish The The The The The The The The The The The The The The The',)\n",
      "label= <pad> Residents of a Scottish Borders town have voted resoundingly in favour of the construction of a bypass.</s><pad><pad><pad><pad><pad><pad><pad><pad><pad><pad><pad><pad><pad><pad><pad><pad>\n",
      "\n",
      "650 3.209456205368042 1.4792000000000002e-05\n",
      "pred= ('West Indies captainto Cricket have  of disgraceful behaviour\" after a man wicket-out by the against Sri in Sria  in the final Cup finalfinalfinals.</s>',)\n",
      "label= <pad> West Indies Under-19s were accused of \"disgraceful behaviour\" after a controversial run-out secured victory over Zimbabwe and a place in the World Cup quarter-finals.\n",
      "\n",
      "700 2.9784302711486816 1.4392000000000002e-05\n",
      "pred= (\"Venezuelans former executiveor has accused  investigation into the  protest to Machao Machado' the alleged conspiracy to oversassinate  government of  Maduro.</s></s> the   Venezuela\",)\n",
      "label= <pad> Venezuela's chief prosecutor has launched an investigation into leading opposition figure Maria Corina Machado over an alleged plot to assassinate the President, Nicolas Maduro.</s><pad><pad><pad><pad>\n",
      "\n",
      "750 3.2091822624206543 1.3992000000000001e-05\n",
      "pred= (\"Greece Greece have  Greece to if few days to, Greece is be  consequencess on theback, debt, Greece,    crisis crisiss Greece.' thea deal. the euroMF. be been  of the.</s>\",)\n",
      "label= <pad> If you had asked me even a few months ago what event could cause devastating shock waves to roll over financial markets, and seriously set back the global economic rival, well Greece missing a payment to the IMF would have been one of them.\n",
      "\n",
      "800 2.7154979705810547 1.3592000000000001e-05\n",
      "pred= ('The 53 has been arrested with the murder of a woman in dead at a nearby in Worcestersham, Worcester..</s></s> The The The The The The The The The The The The The The The The The The',)\n",
      "label= <pad> A man has been charged with the murder of a woman found dead at a house in Evesham, Worcestershire.</s><pad><pad><pad><pad><pad><pad><pad><pad><pad><pad><pad><pad><pad><pad><pad><pad><pad><pad>\n",
      "\n",
      "850 2.915485382080078 1.3192e-05\n",
      "pred= ('Police  was was driving in a car carenginehncle crash in Belfast Belfastshire the was was been. hospital.</s></s> police A police police police police A police  Police A A A A  Police Police A Police Police',)\n",
      "label= <pad> A man who was injured in a single-vehicle crash in County Down on Thursday evening has died in hospital.</s><pad><pad><pad><pad><pad><pad><pad><pad><pad><pad><pad><pad><pad><pad><pad><pad><pad><pad><pad><pad>\n",
      "\n",
      "900 3.2374486923217773 1.2792e-05\n",
      "pred= (\"Scotlandie Hi has Sam Hidalgo-Clyne have been calleda out of the's first training since of.</s></s> Scotland Scotland Scotland Scotland Scotland Scotland Scotland Scotland Scotland Scotland Scotland Scotland Scotland Scotland Scotland Scotland Scotland Scotland Scotland Scotland\",)\n",
      "label= <pad> Richie Gray and Sam Hidalgo-Clyne have been ruled out of Scotland's summer tour because of injuries.</s><pad><pad><pad><pad><pad><pad><pad><pad><pad><pad><pad><pad><pad><pad><pad><pad><pad><pad><pad><pad>\n",
      "\n",
      "950 2.9094488620758057 1.2392000000000003e-05\n",
      "pred= ('A mansaly\" man59ex-ender has has found the run from theedge hasobridge has Oxford, been arrested missing  after policelan Police  Police have warned.</s>',)\n",
      "label= <pad> A \"dangerous\" sex offender who was on the run from HMP Leyhill near Bristol has been found and arrested, Avon and Somerset Police have said.\n",
      "\n",
      "1000 2.943309783935547 1.1992000000000001e-05\n",
      "pred= ('Teachers,  the-Sd, schoolsa school of- \"reor\" time\" the has be a new of urgency in afreude. schools schools.</s></s> The The The  Teachers The  Teachers The A Teachers A The Teachers A A The Teachers A A A',)\n",
      "label= <pad> As teachers file away SPAG practice papers in a box labelled \"waste of time\", there will be a sense of frustration and schadenfreude in primary schools.</s><pad><pad><pad><pad><pad><pad><pad><pad><pad><pad><pad><pad><pad><pad><pad><pad><pad><pad><pad><pad><pad>\n",
      "\n"
     ]
    },
    {
     "name": "stdout",
     "output_type": "stream",
     "text": [
      "1050 2.9269957542419434 1.1592000000000002e-05\n",
      "pred= ('The are be  two and 50,000 people of slavery in the UK, the than the estimates. according has the number Office said.</s></s> The The The The The The The The',)\n",
      "label= <pad> There could be between 10,000 and 13,000 victims of slavery in the UK, higher than previous figures, analysis for the Home Office suggests.</s><pad><pad><pad><pad><pad><pad><pad><pad>\n",
      "\n",
      "1100 2.6950154304504395 1.1192e-05\n",
      "pred= ('The annual will set be place in memorial Wommeoral Fal, honour the th anniversary of the British of the conflictklands conflict.</s>: The The Britain',)\n",
      "label= <pad> An event is to take place at the Senedd in Cardiff to mark the 35th anniversary of the end of the Falklands War.</s><pad><pad><pad>\n",
      "\n",
      "1150 2.7338650226593018 1.0792000000000001e-05\n",
      "pred= (\"Carl Grainger's header-half header for Carlisle United a - win over Carl beated in2-1. theage.</s></s> Steven Steven\",)\n",
      "label= <pad> Danny Grainger's second-half penalty helped Carlisle to a fifth consecutive win as they triumphed 2-1 at Stevenage.</s><pad><pad>\n",
      "\n",
      "1200 3.062887668609619 1.0392e-05\n",
      "pred= ('A  who has   than 1,0007,000  crocodiles has donating toa new record record of</s></s> Gu the The The A A Gu Gu Gu A Gu A',)\n",
      "label= <pad> A man who has collected more than 6,000 novelty crocodiles is claiming a new world record.</s><pad><pad><pad><pad><pad><pad><pad><pad><pad><pad><pad><pad>\n",
      "\n",
      "1250 2.7260684967041016 9.992e-06\n",
      "pred= ('A of the airport have   that to leave injuredarmed by  the has hass to  emergency response exercise.</s></s>  The  The A The A  The A',)\n",
      "label= <pad> Members of the public have been warned not to be alarmed, as Edinburgh Airport prepares for an emergency training exercise.</s><pad><pad><pad><pad><pad><pad><pad><pad><pad><pad>\n",
      "\n",
      "1300 3.2160377502441406 9.592e-06\n",
      "pred= ('China example years, the has Bhutan have   in a \"-off over the of the border500- borderkm800)kilometre) border border roads</s></s> India China China China India China China China Indian',)\n",
      "label= <pad> For four weeks, India and China have been involved in a stand-off along part of their 3,500km (2,174-mile) shared border.</s><pad><pad><pad><pad><pad><pad><pad><pad><pad>\n",
      "\n",
      "1350 3.285295009613037 9.192000000000001e-06\n",
      "pred= ('A club of Rossa former of at theuttonr\\' club have struckbeaten \"ed by thea rowby incident in  was been.</s>: The The The The The The The The A The A The The The The The The A A The The A',)\n",
      "label= <pad> The parents of a coach working for Swindon Town FC were allegedly assaulted following a derby match, it has emerged.</s><pad><pad><pad><pad><pad><pad><pad><pad><pad><pad><pad><pad><pad><pad><pad><pad><pad><pad><pad><pad><pad><pad>\n",
      "\n",
      "1400 2.8108749389648438 8.792e-06\n",
      "pred= ('A couple husband of Bera former Ashley Hold has have £a settlement6m settlement settlement, shea former has saidargued.</s></s> The A A The A The The A A The The The A The A',)\n",
      "label= <pad> The former wife of a Laura Ashley boss should receive a £64m divorce settlement, a judge has ruled.</s><pad><pad><pad><pad><pad><pad><pad><pad><pad><pad><pad><pad><pad><pad><pad>\n",
      "\n",
      "1450 3.121246099472046 8.392e-06\n",
      "pred= ('The 3050,000 local locations will businesses in Scotland will expected be their broadband broadband services part of the Digital Scotland initiative.  says said announced.</s>. The The The Scottish Scottish The Scottish The The Scottish Scottish The The',)\n",
      "label= <pad> About 39,000 more homes and businesses across Scotland are to get fibre optic broadband as part of the Digital Scotland partnership, it has been announced.</s><pad><pad><pad><pad><pad><pad><pad><pad><pad><pad><pad><pad><pad>\n",
      "\n",
      "1500 2.6178135871887207 7.992e-06\n",
      "pred= ('The  to to bevaccinate boys in thea -free vaccinely transmitted virus has beentracted criticism criticism.</s></s>  The The  The A The The',)\n",
      "label= <pad> A decision not to vaccinate boys against a cancer-causing sexually transmitted infection has attracted fierce criticism.</s><pad><pad><pad><pad><pad><pad><pad><pad>\n",
      "\n",
      "1550 2.9920525550842285 7.592e-06\n",
      "pred= (\"A poll polls have the voters Macron there poll is that' 't a chance for</s></s> Macron Macron Macron  Macron  Macron Macron A A Macron\",)\n",
      "label= <pad> The opinion polls say no, and conventional wisdom says she hasn't a hope.</s><pad><pad><pad><pad><pad><pad><pad><pad><pad><pad><pad>\n",
      "\n",
      "1600 2.5438122749328613 7.192e-06\n",
      "pred= (\"A men the menton Garden raidies  part in a raid-million-pound raidrob had raid a shopfair storeler' store years ago, thea court heard heard told.</s>\",)\n",
      "label= <pad> Two of the Hatton Garden burglars took part in a multi-million pound heist at a Mayfair jewellers five years earlier, a court has been told.\n",
      "\n",
      "1650 3.1599535942077637 6.792000000000001e-06\n",
      "pred= ('A Sports hass Andy team Andy Lawr has has ting his teamdefendings against Evera  team at season in weekend.</s></s> The The The The Palace A A A The A A A A Manchester A',)\n",
      "label= <pad> BBC Sport's football expert Mark Lawrenson is pitting his wits against a different guest each week this season.</s><pad><pad><pad><pad><pad><pad><pad><pad><pad><pad><pad><pad><pad><pad><pad>\n",
      "\n",
      "1700 2.7161338329315186 6.392000000000001e-06\n",
      "pred= (\"A protest has Zimbabwe has has theyanas has chargedd hisa protest who has been charged of incausing to turnrow the government'</s> than  African  A A A The Zimbabwe The A\",)\n",
      "label= <pad> A court in Zimbabwe capital, Harare, has freed a pastor who had been accused of attempting to overthrow the government.</s><pad><pad><pad><pad><pad><pad><pad><pad><pad><pad>\n",
      "\n",
      "1750 2.8372642993927 5.992e-06\n",
      "pred= ('A million in many people have Wales 50s have Wales have more diagnosed with mal condition of of mal cancer in  years ago.  has.</s></s> The  The The The Wales The Wales',)\n",
      "label= <pad> Four times as many people in their 50s in Wales are now diagnosed with the worst form of skin cancer as 30 years ago, research suggests.</s><pad><pad><pad><pad><pad><pad><pad><pad>\n",
      "\n",
      "1800 2.7240467071533203 5.592000000000001e-06\n",
      "pred= ('Con newwy Bay councilmatorium will announced  ers and weekend to pay thes for.. they are pay a visit.</s></s>. the Con Con Con Con Con Con Con Con Con Con Con',)\n",
      "label= <pad> A Conwy county crematorium has started offering mourners the chance to watch funerals online if they cannot make a service.</s><pad><pad><pad><pad><pad><pad><pad><pad><pad><pad><pad><pad><pad>\n",
      "\n",
      "1850 2.775650978088379 5.1920000000000004e-06\n",
      "pred= ('A Den of a Den dwell who was in 30,000 years ago has been d by  detail.</s>d  A The The The The A A A A A The A A The A A A A',)\n",
      "label= <pad> The DNA of a cave girl who lived about 80,000 years ago has been analysed in remarkable detail.</s><pad><pad><pad><pad><pad><pad><pad><pad><pad><pad><pad><pad><pad><pad><pad><pad><pad><pad><pad>\n",
      "\n",
      "1900 2.808049440383911 4.792000000000001e-06\n",
      "pred= ('The author Sir Salman has has has made   has the book book, Satanic Verses in  proper.</s></s> In The The The The The The The The The The The',)\n",
      "label= <pad> British author Sir Salman Rushdie has said that India banned his 1988 novel The Satanic Verses without any scrutiny.</s><pad><pad><pad><pad><pad><pad><pad><pad><pad><pad><pad><pad>\n",
      "\n",
      "1950 2.6687939167022705 4.3920000000000005e-06\n",
      "pred= ('Thedives have Abdul Nasheed has beenre  Nas Salaheed to  down from citing former after  have him election election to   election.</s></s> The The The The The A The A',)\n",
      "label= <pad> Maldives candidate Mohamed Nasheed has urged President Mohamed Waheed to step down, a day after police stopped the latest attempt to hold an election.</s><pad><pad><pad><pad><pad><pad><pad><pad>\n",
      "\n",
      "2000 3.2321174144744873 3.992e-06\n",
      "pred= (\"Thearri heavyr David champion David Bellew has a   in the Bellelys Haye from thea  weight fight. Belle's Belle2 Arena.</s></s>  A The A A A A The The A The The A A\",)\n",
      "label= <pad> WBC cruiserweight champion Tony Bellew produced a stunning upset to stop bitter rival David Haye in a thrilling heavyweight contest at London's O2 Arena.</s><pad><pad><pad><pad><pad><pad><pad><pad><pad><pad><pad><pad><pad><pad>\n",
      "\n",
      "2050 2.799100399017334 3.5920000000000005e-06\n",
      "pred= ('The United and China have signed jointa joint statement tourging their the countries will sign the Paris Agreement Agreement as month.</s></s>  The The   The The The The The The The The The The The The The The',)\n",
      "label= <pad> The US and China have issued a joint statement confirming that both countries will sign the Paris Climate Agreement next month.</s><pad><pad><pad><pad><pad><pad><pad><pad><pad><pad><pad><pad><pad><pad><pad><pad><pad><pad><pad>\n",
      "\n"
     ]
    },
    {
     "name": "stdout",
     "output_type": "stream",
     "text": [
      "2100 2.870434284210205 3.192e-06\n",
      "pred= ('A group trial of Du of  with severeDM severe serious diseasedecular disease ( been at</s>. Bristol The Bristol The Bristol Bristol A Bristol A A Bristol A A A A A A A A A A The A A A A A The A A A A A A A A The A The A A',)\n",
      "label= <pad> A clinical trial into treatment for children with a potentially fatal neuromuscular disorder has begun.</s><pad><pad><pad><pad><pad><pad><pad><pad><pad><pad><pad><pad><pad><pad><pad><pad><pad><pad><pad><pad><pad><pad><pad><pad><pad><pad><pad><pad><pad><pad><pad><pad><pad><pad><pad><pad><pad><pad><pad><pad><pad>\n",
      "\n",
      "2150 2.66827130317688 2.792e-06\n",
      "pred= ('A poll have  for more to bereature\"proofing and future of pollinators plants and which and insects to</s></s> The The The A A',)\n",
      "label= <pad> International scientists are calling for action to \"future-proof\" the prosperity of pollinating insects, birds and mammals.</s><pad><pad><pad><pad><pad>\n",
      "\n",
      "2200 2.7905874252319336 2.392e-06\n",
      "pred= ('A Match one Phil Taylor Gerwen has Phil-times Phil Taylor in-6 in the final of earn the Grand Slam of Darts. the first time.</s></s> The',)\n",
      "label= <pad> World number one Michael van Gerwen defeated six-time winner Phil Taylor 16-13 in the final to win the Grand Slam of Darts for the first time.</s><pad>\n",
      "\n",
      "2250 2.792288064956665 1.992e-06\n",
      "pred= ('Arsenal have Arsene Wenger has he hashasar d\"  his a new player, summer, he hassd his he will goingaable\" winning the Arsenal to</s>',)\n",
      "label= <pad> Arsenal manager Arsene Wenger says he \"hesitated\" over signing a new contract last season because he doubted whether he was \"capable of leading the club\".\n",
      "\n",
      "2300 2.8188014030456543 1.5920000000000002e-06\n",
      "pred= ('A council to a newcentral of with theshire would be \" in hold test in rrington council hass have to  the council.</s></s> the A The Wa Wa Wa A A',)\n",
      "label= <pad> A plan for a devolution deal in Cheshire will be put to the public after Warrington councillors agreed to join the bid.</s><pad><pad><pad><pad><pad><pad><pad><pad>\n",
      "\n",
      "2350 2.8885977268218994 1.1920000000000002e-06\n",
      "pred= ('A at the  afters, be a bitsm,,</s>,<pad> A A A A A A A A A A A A A A A A A A A A A A A A A A A A A A A A',)\n",
      "label= <pad> Looking at the day's news can be a glum business.</s><pad><pad><pad><pad><pad><pad><pad><pad><pad><pad><pad><pad><pad><pad><pad><pad><pad><pad><pad><pad><pad><pad><pad><pad><pad><pad><pad><pad><pad><pad><pad><pad><pad>\n",
      "\n",
      "2400 2.79221773147583 7.920000000000001e-07\n",
      "pred= ('A Scottish Border has agreed  to fund at the development case for the ata  railway. the Scottish Britaintryry. the. the Scottishs Railway</s></s>. A A A A Scottish A A A A A A',)\n",
      "label= <pad> The Scottish government has been asked to look at the business case for building a permanent home for the Great Tapestry of Scotland in the Borders.</s><pad><pad><pad><pad><pad><pad><pad><pad><pad><pad><pad><pad>\n",
      "\n",
      "2450 2.992344617843628 3.92e-07\n",
      "pred= (\"A Leone's government has launched toa tribute reward£2) to for her about to the murder of a sster of raping   hera woman in</s></s>  A A A  A A A A\",)\n",
      "label= <pad> Sierra Leone's government has offered a $1,000 (£640) reward for information leading to the arrest of a gang suspected of raping and killing a girl.</s><pad><pad><pad><pad><pad><pad><pad><pad><pad>\n",
      "\n"
     ]
    },
    {
     "data": {
      "application/vnd.jupyter.widget-view+json": {
       "model_id": "ca131d1a24f04ccebc6239678f5c8e4b",
       "version_major": 2,
       "version_minor": 0
      },
      "text/plain": [
       "Upload 1 LFS files:   0%|          | 0/1 [00:00<?, ?it/s]"
      ]
     },
     "metadata": {},
     "output_type": "display_data"
    },
    {
     "data": {
      "application/vnd.jupyter.widget-view+json": {
       "model_id": "6df47f855b6a4373bd520a25a65ab946",
       "version_major": 2,
       "version_minor": 0
      },
      "text/plain": [
       "pytorch_model.bin:   0%|          | 0.00/308M [00:00<?, ?B/s]"
      ]
     },
     "metadata": {},
     "output_type": "display_data"
    }
   ],
   "source": [
    "from transformers.trainer_pt_utils import get_parameter_names\n",
    "from transformers import AdamW\n",
    "from transformers.optimization import get_scheduler\n",
    "\n",
    "\n",
    "#训练\n",
    "def train():\n",
    "    #一个工具函数,能够获取模型中所有参数的名字列表\n",
    "    parameter_names = get_parameter_names(model, [torch.nn.LayerNorm])\n",
    "\n",
    "    #定义哪些参数参与weight_decay\n",
    "    parameter_names = [i for i in parameter_names if 'bias' not in i]\n",
    "\n",
    "    #根据参数要参与weight_decay来把参数分为两组\n",
    "    parameter_names = [\n",
    "        {\n",
    "            'params':\n",
    "            [p for i, p in model.named_parameters() if i in parameter_names],\n",
    "            'weight_decay':\n",
    "            1e-2,\n",
    "        },\n",
    "        {\n",
    "            'params': [\n",
    "                p for i, p in model.named_parameters()\n",
    "                if i not in parameter_names\n",
    "            ],\n",
    "            'weight_decay':\n",
    "            0.0,\n",
    "        },\n",
    "    ]\n",
    "\n",
    "    #定义优化器\n",
    "    optimizer = AdamW(parameter_names, betas=(0.9, 0.999), eps=1e-8, lr=2e-5)\n",
    "\n",
    "    #定义lr调整器\n",
    "    scheduler = get_scheduler(name='linear',\n",
    "                              num_warmup_steps=0,\n",
    "                              num_training_steps=len(loader),\n",
    "                              optimizer=optimizer)\n",
    "\n",
    "    device = 'cuda' if torch.cuda.is_available() else 'cpu'\n",
    "    model.train()\n",
    "    model.to(device)\n",
    "    for i, data in enumerate(loader):\n",
    "        for k in data.keys():\n",
    "            data[k] = data[k].to(device)\n",
    "            \n",
    "        out = model(**data)\n",
    "        loss = out['loss']\n",
    "\n",
    "        loss.backward()\n",
    "        torch.nn.utils.clip_grad_norm_(model.parameters(), 1.0)\n",
    "\n",
    "        optimizer.step()\n",
    "        scheduler.step()\n",
    "\n",
    "        optimizer.zero_grad()\n",
    "        model.zero_grad()\n",
    "\n",
    "        if i % 50 == 0:\n",
    "            pred = tokenizer.decode(out['logits'].argmax(dim=2)[0]),\n",
    "\n",
    "            label = tokenizer.decode(data['decoder_input_ids'][0])\n",
    "\n",
    "            lr = optimizer.state_dict()['param_groups'][0]['lr']\n",
    "            print(i, loss.item(), lr)\n",
    "            print('pred=', pred)\n",
    "            print('label=', label)\n",
    "            print()\n",
    "\n",
    "    model.to('cpu')\n",
    "\n",
    "\n",
    "if push_to_hub:\n",
    "    train()\n",
    "    model.push_to_hub(repo_id=repo_id, use_auth_token=hub_token)"
   ]
  },
  {
   "cell_type": "code",
   "execution_count": 9,
   "id": "2167896e",
   "metadata": {},
   "outputs": [
    {
     "data": {
      "application/vnd.jupyter.widget-view+json": {
       "model_id": "61679afec7314c469102ef0a492a99c3",
       "version_major": 2,
       "version_minor": 0
      },
      "text/plain": [
       "Downloading (…)lve/main/config.json:   0%|          | 0.00/105 [00:00<?, ?B/s]"
      ]
     },
     "metadata": {},
     "output_type": "display_data"
    },
    {
     "data": {
      "application/vnd.jupyter.widget-view+json": {
       "model_id": "640a918cce5f419ca073bc663b53b5ae",
       "version_major": 2,
       "version_minor": 0
      },
      "text/plain": [
       "Downloading (…)\"pytorch_model.bin\";:   0%|          | 0.00/308M [00:00<?, ?B/s]"
      ]
     },
     "metadata": {},
     "output_type": "display_data"
    },
    {
     "name": "stdout",
     "output_type": "stream",
     "text": [
      "pred= ('Thes have working to rebuild the canal canalsea canal Canal it of a project to rebuild the canal length of the canalway to to the. the.</s>',)\n",
      "label= <pad> Volunteers are helping to restore the historic Swansea Canal as part of a project to bring the full length of the waterway back into use for boats.\n",
      "\n",
      "pred= ('The inquiry into thea child of misconduct of misconduct hasinvolving children children ofs charity Kids Company has been launched. the National Police. which charity and said.</s></s> The',)\n",
      "label= <pad> An investigation into a number of allegations of crime involving the children's charity Kids Company has been launched by the Metropolitan Police, the BBC has learned.</s><pad>\n",
      "\n",
      "pred= ('Bristol Citydefenderyle haver Spencer Spencer has be the least two weeks of being the mal his squad after</s></s> Bristol Bristol Bristol Bristol Bristol Bristol Bristol Bristol Bristol Bristol',)\n",
      "label= <pad> Plymouth Argyle striker Jimmy Spencer will miss at least three months after breaking and dislocating his ankle.</s><pad><pad><pad><pad><pad><pad><pad><pad><pad><pad>\n",
      "\n",
      "pred= ('The- from Danny break sidery Thompson and Checambe a  lead goal lead over Cheltenham Town</s></s> Danny The The The The The The The The',)\n",
      "label= <pad> Two goals from the returning Garry Thompson gave Morecambe a dramatic opening day win over Cheltenham.</s><pad><pad><pad><pad><pad><pad><pad><pad><pad>\n",
      "\n"
     ]
    }
   ],
   "source": [
    "#直接使用我训练好的模型\n",
    "model = Model.from_pretrained(repo_id)\n",
    "\n",
    "test()"
   ]
  }
 ],
 "metadata": {
  "kernelspec": {
   "display_name": "Python 3 (ipykernel)",
   "language": "python",
   "name": "python3"
  },
  "language_info": {
   "codemirror_mode": {
    "name": "ipython",
    "version": 3
   },
   "file_extension": ".py",
   "mimetype": "text/x-python",
   "name": "python",
   "nbconvert_exporter": "python",
   "pygments_lexer": "ipython3",
   "version": "3.9.13"
  }
 },
 "nbformat": 4,
 "nbformat_minor": 5
}
